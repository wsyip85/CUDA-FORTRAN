{
  "nbformat": 4,
  "nbformat_minor": 0,
  "metadata": {
    "colab": {
      "provenance": [],
      "gpuType": "T4"
    },
    "kernelspec": {
      "name": "python3",
      "display_name": "Python 3"
    },
    "language_info": {
      "name": "python"
    },
    "accelerator": "GPU"
  },
  "cells": [
    {
      "cell_type": "code",
      "execution_count": null,
      "metadata": {
        "id": "jHdbeR5Su-g_",
        "colab": {
          "base_uri": "https://localhost:8080/"
        },
        "outputId": "27c7cff8-752a-4a72-a49f-beb6334eccd2"
      },
      "outputs": [
        {
          "output_type": "stream",
          "name": "stdout",
          "text": [
            "Mounted at /content/drive/\n"
          ]
        }
      ],
      "source": [
        "# Mounting Google Drive (Use Google colab gpu)\n",
        "from google.colab import drive\n",
        "drive.mount('/content/drive/')"
      ]
    },
    {
      "cell_type": "code",
      "source": [
        "# Go to your Directory\n",
        "!mkdir -p /content/drive/MyDrive/CUDA/Work/PracticeCUDA-02/\n",
        "%cd /content/drive/MyDrive/CUDA/Work/PracticeCUDA-02/\n",
        "# Setup your installation\n",
        "!chmod +x /content/drive/MyDrive/CUDA/Linux_x86_64/24.7/compilers/bin/tools/acclnk\n",
        "!chmod +x /content/drive/MyDrive/CUDA/Linux_x86_64/24.7/compilers/bin/tools/nvdd\n",
        "!chmod +x /content/drive/MyDrive/CUDA/Linux_x86_64/24.7/compilers/bin/tools/append\n",
        "!chmod +x /content/drive/MyDrive/CUDA/Linux_x86_64/24.7/compilers/bin/tools/fort1\n",
        "!chmod +x /content/drive/MyDrive/CUDA/Linux_x86_64/24.7/compilers/bin/tools/fort2\n",
        "!chmod +x /content/drive/MyDrive/CUDA/Linux_x86_64/24.7/compilers/share/llvm/bin/llvm-as\n",
        "!chmod +x /content/drive/MyDrive/CUDA/Linux_x86_64/24.7/compilers/share/llvm/bin/llvm-link\n",
        "!chmod +x /content/drive/MyDrive/CUDA/Linux_x86_64/24.7/compilers/share/llvm/bin/llc\n",
        "!chmod +x /content/drive/MyDrive/CUDA/Linux_x86_64/24.7/compilers/share/llvm/bin/opt\n",
        "!chmod +x /content/drive/MyDrive/CUDA/Linux_x86_64/24.7/compilers/share/llvm/bin/llvm-mc\n",
        "!chmod +x /content/drive/MyDrive/CUDA/Linux_x86_64/24.7/compilers/bin/tools/nvvmd\n",
        "!chmod +x /content/drive/MyDrive/CUDA/Linux_x86_64/24.7/cuda/12.5/bin/ptxas\n",
        "!chmod +x /content/drive/MyDrive/CUDA/Linux_x86_64/24.7/cuda/12.5/bin/fatbinary\n",
        "!chmod +x /content/drive/MyDrive/CUDA/Linux_x86_64/24.7/compilers/bin/tools/import\n",
        "!chmod +x /content/drive/MyDrive/CUDA/Linux_x86_64/24.7/cuda/12.5/bin/nvlink\n",
        "!chmod +x /content/drive/MyDrive/CUDA/Linux_x86_64/24.7/compilers/bin/makelocalrc\n",
        "!chmod +x /content/drive/MyDrive/CUDA/Linux_x86_64/24.7/compilers/bin/nvaccelinfo\n",
        "!chmod +x /content/drive/MyDrive/CUDA/Linux_x86_64/24.7/compilers/bin/nvfortran"
      ],
      "metadata": {
        "id": "8CJMpdADvfeb",
        "colab": {
          "base_uri": "https://localhost:8080/"
        },
        "outputId": "35741db5-3928-4393-f5c3-76af5bed6932"
      },
      "execution_count": null,
      "outputs": [
        {
          "output_type": "stream",
          "name": "stdout",
          "text": [
            "/content/drive/MyDrive/CUDA/Work/PracticeCUDA-02\n"
          ]
        }
      ]
    },
    {
      "cell_type": "code",
      "source": [
        "# One-dimensional matrix addition\n",
        "!/content/drive/MyDrive/CUDA/Linux_x86_64/24.7/compilers/bin/nvfortran 01-MatrixAddition1D.cuf -o 01-MatrixAddition1D.exe\n",
        "!./01-MatrixAddition1D.exe\n"
      ],
      "metadata": {
        "id": "bujvdmbFJ6wt",
        "colab": {
          "base_uri": "https://localhost:8080/"
        },
        "outputId": "a458fe7c-5be5-4ceb-cbe7-f45ae6c3e8ef"
      },
      "execution_count": null,
      "outputs": [
        {
          "output_type": "stream",
          "name": "stdout",
          "text": [
            " First 10 elements of original array\n",
            "    1.000000    \n",
            "    2.000000    \n",
            "    3.000000    \n",
            "    4.000000    \n",
            "    5.000000    \n",
            "    6.000000    \n",
            "    7.000000    \n",
            "    8.000000    \n",
            "    9.000000    \n",
            "    10.00000    \n",
            " First 10 elements of added array\n",
            "    2.000000    \n",
            "    3.000000    \n",
            "    4.000000    \n",
            "    5.000000    \n",
            "    6.000000    \n",
            "    7.000000    \n",
            "    8.000000    \n",
            "    9.000000    \n",
            "    10.00000    \n",
            "    11.00000    \n"
          ]
        }
      ]
    },
    {
      "cell_type": "code",
      "source": [
        "# Two-dimensional matrix addition\n",
        "!/content/drive/MyDrive/CUDA/Linux_x86_64/24.7/compilers/bin/nvfortran 02-MatrixAddition2D.cuf -o 02-MatrixAddition2D.exe\n",
        "!./02-MatrixAddition2D.exe"
      ],
      "metadata": {
        "id": "8dcNqGJH-lys",
        "colab": {
          "base_uri": "https://localhost:8080/"
        },
        "outputId": "e4733bce-c98e-4161-919d-f11e8217d6fd"
      },
      "execution_count": null,
      "outputs": [
        {
          "output_type": "stream",
          "name": "stdout",
          "text": [
            " First 10 elements of original array\n",
            "    0.0    0.0    0.0    0.0    0.0    0.0    0.0    0.0    0.0    0.0\n",
            "    0.0    0.0    0.0    0.0    0.0    0.0    0.0    0.0    0.0    0.0\n",
            "    0.0    0.0    0.0    0.0    0.0    0.0    0.0    0.0    0.0    0.0\n",
            "    0.0    0.0    0.0    0.0    0.0    0.0    0.0    0.0    0.0    0.0\n",
            "    0.0    0.0    0.0    0.0    0.0    0.0    0.0    0.0    0.0    0.0\n",
            "    0.0    0.0    0.0    0.0    0.0    0.0    0.0    0.0    0.0    0.0\n",
            "    0.0    0.0    0.0    0.0    0.0    0.0    0.0    0.0    0.0    0.0\n",
            "    0.0    0.0    0.0    0.0    0.0    0.0    0.0    0.0    0.0    0.0\n",
            "    0.0    0.0    0.0    0.0    0.0    0.0    0.0    0.0    0.0    0.0\n",
            "    0.0    0.0    0.0    0.0    0.0    0.0    0.0    0.0    0.0    0.0\n",
            " First 10 elements of added array\n",
            "    1.0    1.0    1.0    1.0    1.0    1.0    1.0    1.0    1.0    1.0\n",
            "    1.0    1.0    1.0    1.0    1.0    1.0    1.0    1.0    1.0    1.0\n",
            "    1.0    1.0    1.0    1.0    1.0    1.0    1.0    1.0    1.0    1.0\n",
            "    1.0    1.0    1.0    1.0    1.0    1.0    1.0    1.0    1.0    1.0\n",
            "    1.0    1.0    1.0    1.0    1.0    1.0    1.0    1.0    1.0    1.0\n",
            "    1.0    1.0    1.0    1.0    1.0    1.0    1.0    1.0    1.0    1.0\n",
            "    1.0    1.0    1.0    1.0    1.0    1.0    1.0    1.0    1.0    1.0\n",
            "    1.0    1.0    1.0    1.0    1.0    1.0    1.0    1.0    1.0    1.0\n",
            "    1.0    1.0    1.0    1.0    1.0    1.0    1.0    1.0    1.0    1.0\n",
            "    1.0    1.0    1.0    1.0    1.0    1.0    1.0    1.0    1.0    1.0\n",
            " Passed, there are     211356800  elements \n"
          ]
        }
      ]
    },
    {
      "cell_type": "code",
      "source": [
        "# Matrix transpose\n",
        "!/content/drive/MyDrive/CUDA/Linux_x86_64/24.7/compilers/bin/nvfortran 03-MatrixTranspose.cuf -o 03-MatrixTranspose.exe\n",
        "!./03-MatrixTranspose.exe"
      ],
      "metadata": {
        "id": "kFvIT7M5TNk1"
      },
      "execution_count": null,
      "outputs": []
    },
    {
      "cell_type": "code",
      "source": [
        "# Matrix convolution\n",
        "!/content/drive/MyDrive/CUDA/Linux_x86_64/24.7/compilers/bin/nvfortran 04-MatrixConvolution.cuf -o 04-MatrixConvolution.exe\n",
        "!./04-MatrixConvolution.exe"
      ],
      "metadata": {
        "id": "uvPkHh2JMrzD"
      },
      "execution_count": null,
      "outputs": []
    }
  ]
}